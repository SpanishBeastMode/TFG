{
 "cells": [
  {
   "cell_type": "markdown",
   "metadata": {
    "tags": []
   },
   "source": [
    "# Basic QUBO HUBO solver"
   ]
  },
  {
   "cell_type": "code",
   "execution_count": 11,
   "metadata": {},
   "outputs": [
    {
     "name": "stdout",
     "output_type": "stream",
     "text": [
      "first prime number:  10111\n",
      "second prime number:  10133\n",
      "RSA number:  102454763\n"
     ]
    }
   ],
   "source": [
    "##### Initial setting #####\n",
    "# x1 = q0 + 2q1 + 4q2 + --- + 2^(n-1)q(n-1)\n",
    "# x2 = qn + 2q(n+1) + 4q(n+2) + --- 2^(n-1)q(2n-1)\n",
    "# x1x2 = c\n",
    "# Least square problem\n",
    "# QUBO = (x1x2 - c)^2 - c^2\n",
    "import numpy as np\n",
    "import random\n",
    "import math\n",
    "import copy\n",
    "from dwave.system import DWaveSampler, EmbeddingComposite\n",
    "import dimod\n",
    "sampler_auto = EmbeddingComposite(DWaveSampler(solver={'qpu': True}))\n",
    "x1 = int(10111)\n",
    "x2 = int(10133)\n",
    "c = x1 * x2\n",
    "print(\"first prime number: \", x1)\n",
    "print(\"second prime number: \", x2)\n",
    "print(\"RSA number: \", c)"
   ]
  },
  {
   "cell_type": "markdown",
   "metadata": {},
   "source": [
    "## Factorization problem to HUBO"
   ]
  },
  {
   "cell_type": "code",
   "execution_count": 12,
   "metadata": {},
   "outputs": [],
   "source": [
    "qubits = 14\n",
    "max_d = format(len(str(2 * qubits)), '02')\n",
    "QM = np. zeros((2 * qubits, 2 * qubits))\n",
    "Q = {}\n",
    "\n",
    "# Linear term\n",
    "for j in range(qubits):\n",
    "    for i in range(qubits):\n",
    "        po1 = i\n",
    "        po2 = qubits + j\n",
    "        val = pow(2, 2 * (i + j)) - 2 * c * pow(2, i + j)\n",
    "        exec(\"Q.update({('q%s','q%s'):%s})\" % (\n",
    "            format(po1 + 1, max_d), format(po2 + 1, max_d), format(val)))\n",
    "\n",
    "# Quadratic term\n",
    "for k in range(qubits):\n",
    "    for i in range(qubits - 1):\n",
    "        for j in range(i + 1, qubits):\n",
    "            # 2^(i+j+2k+1)aiajbk\n",
    "            po1 = i\n",
    "            po2 = j\n",
    "            po3 = qubits + k\n",
    "            val = pow(2, i + j + 2 * k + 1)\n",
    "            exec(\"Q.update({('q%s','q%s','q%s'):%s})\" % (format(po1 + 1, max_d), format(po2 + 1, max_d),\n",
    "                                                         format(po3 + 1, max_d), format(val)))\n",
    "\n",
    "# Cubic term\n",
    "for k in range(qubits):\n",
    "    for i in range(qubits - 1):\n",
    "        for j in range(i + 1, qubits):\n",
    "            # 2^(i+j+2k+1)akbibj\n",
    "            po1 = k\n",
    "            po2 = qubits + i\n",
    "            po3 = qubits + j\n",
    "            val = pow(2, i + j + 2 * k + 1)\n",
    "            exec(\"Q.update({('q%s','q%s','q%s'):%s})\" % (format(po1 + 1, max_d), format(po2 + 1, max_d),\n",
    "                                                         format(po3 + 1, max_d), format(val)))\n",
    "\n",
    "# Quartic term\n",
    "for i2 in range(qubits - 1):\n",
    "    for j2 in range(i2 + 1, qubits):\n",
    "        for i1 in range(qubits - 1):\n",
    "            for j1 in range(i1 + 1, qubits):\n",
    "                po1 = i1\n",
    "                po2 = j1\n",
    "                po3 = qubits + i2\n",
    "                po4 = qubits + j2\n",
    "                val = pow(2, i1 + j1 + i2 + j2 + 2)\n",
    "                exec(\"Q.update({('q%s','q%s','q%s','q%s'):%s})\" % (format(po1 + 1, max_d), format(po2 + 1, max_d),\n",
    "                                                                   format(po3 + 1, max_d), format(po4 + 1, max_d), format(val)))"
   ]
  },
  {
   "cell_type": "markdown",
   "metadata": {},
   "source": [
    "## HUBO to QUBO and solving"
   ]
  },
  {
   "cell_type": "code",
   "execution_count": 13,
   "metadata": {},
   "outputs": [
    {
     "ename": "",
     "evalue": "",
     "output_type": "error",
     "traceback": [
      "\u001b[1;31mThe Kernel crashed while executing code in the current cell or a previous cell. \n",
      "\u001b[1;31mPlease review the code in the cell(s) to identify a possible cause of the failure. \n",
      "\u001b[1;31mClick <a href='https://aka.ms/vscodeJupyterKernelCrash'>here</a> for more info. \n",
      "\u001b[1;31mView Jupyter <a href='command:jupyter.viewOutput'>log</a> for further details."
     ]
    }
   ],
   "source": [
    "sampler_auto = EmbeddingComposite(DWaveSampler(solver={'qpu': True}))\n",
    "sampleset = dimod.ExactPolySolver().sample_hubo(Q)\n",
    "# energy = 0\n",
    "energies = sampleset.record.energy\n",
    "energy0_nums = np. where(energies == - pow(c, 2))[0]\n",
    "x = np. zeros(2)\n",
    "for idx in range(len(energy0_nums)):\n",
    "    sol1 = sampleset. record[energy0_nums[idx]][0]\n",
    "    for xk in range(2):\n",
    "        x[xk] = 0\n",
    "    lambda1 = 0\n",
    "    for xk in range(2):\n",
    "        for k in range(qubits):\n",
    "            x[xk] = x[xk] + pow(2, k) * (sol1[xk * qubits + k])\n",
    "    print(x)\n"
   ]
  },
  {
   "cell_type": "code",
   "execution_count": null,
   "metadata": {},
   "outputs": [],
   "source": [
    "print(sampleset.first)"
   ]
  }
 ],
 "metadata": {
  "kernelspec": {
   "display_name": "TFG",
   "language": "python",
   "name": "python3"
  },
  "language_info": {
   "codemirror_mode": {
    "name": "ipython",
    "version": 3
   },
   "file_extension": ".py",
   "mimetype": "text/x-python",
   "name": "python",
   "nbconvert_exporter": "python",
   "pygments_lexer": "ipython3",
   "version": "3.12.1"
  }
 },
 "nbformat": 4,
 "nbformat_minor": 2
}
