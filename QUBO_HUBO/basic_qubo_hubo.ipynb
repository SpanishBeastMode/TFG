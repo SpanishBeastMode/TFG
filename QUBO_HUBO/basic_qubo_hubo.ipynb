{
 "cells": [
  {
   "cell_type": "markdown",
   "metadata": {
    "tags": []
   },
   "source": [
    "# Basic QUBO HUBO solver"
   ]
  },
  {
   "cell_type": "code",
   "execution_count": 31,
   "metadata": {},
   "outputs": [
    {
     "name": "stdout",
     "output_type": "stream",
     "text": [
      "first prime number:  3\n",
      "second prime number:  5\n",
      "RSA number:  15\n"
     ]
    }
   ],
   "source": [
    "##### Initial setting #####\n",
    "# x1 = q0 + 2q1 + 4q2 + --- + 2^(n-1)q(n-1)\n",
    "# x2 = qn + 2q(n+1) + 4q(n+2) + --- 2^(n-1)q(2n-1)\n",
    "# x1x2 = c\n",
    "# Least square problem\n",
    "# QUBO = (x1x2 - c)^2 - c^2\n",
    "import numpy as np\n",
    "from dwave.system import DWaveSampler, EmbeddingComposite\n",
    "import dimod\n",
    "x1 = int(3)\n",
    "x2 = int(5)\n",
    "c = x1 * x2\n",
    "print(\"first prime number: \", x1)\n",
    "print(\"second prime number: \", x2)\n",
    "print(\"RSA number: \", c)"
   ]
  },
  {
   "cell_type": "markdown",
   "metadata": {},
   "source": [
    "## Factorization problem to HUBO"
   ]
  },
  {
   "cell_type": "code",
   "execution_count": 32,
   "metadata": {},
   "outputs": [],
   "source": [
    "qubits = 3\n",
    "max_d = format(len(str(2 * qubits)), '02')\n",
    "QM = np. zeros((2 * qubits, 2 * qubits))\n",
    "Q = {}\n",
    "\n",
    "# Linear term\n",
    "for j in range(qubits):\n",
    "    for i in range(qubits):\n",
    "        po1 = i\n",
    "        po2 = qubits + j\n",
    "        val = pow(2, 2 * (i + j)) - 2 * c * pow(2, i + j)\n",
    "        exec(\"Q.update({('q%s','q%s'):%s})\" % (\n",
    "            format(po1 + 1, max_d), format(po2 + 1, max_d), format(val)))\n",
    "\n",
    "# Quadratic term\n",
    "for k in range(qubits):\n",
    "    for i in range(qubits - 1):\n",
    "        for j in range(i + 1, qubits):\n",
    "            # 2^(i+j+2k+1)aiajbk\n",
    "            po1 = i\n",
    "            po2 = j\n",
    "            po3 = qubits + k\n",
    "            val = pow(2, i + j + 2 * k + 1)\n",
    "            exec(\"Q.update({('q%s','q%s','q%s'):%s})\" % (format(po1 + 1, max_d), format(po2 + 1, max_d),\n",
    "                                                         format(po3 + 1, max_d), format(val)))\n",
    "\n",
    "# Cubic term\n",
    "for k in range(qubits):\n",
    "    for i in range(qubits - 1):\n",
    "        for j in range(i + 1, qubits):\n",
    "            # 2^(i+j+2k+1)akbibj\n",
    "            po1 = k\n",
    "            po2 = qubits + i\n",
    "            po3 = qubits + j\n",
    "            val = pow(2, i + j + 2 * k + 1)\n",
    "            exec(\"Q.update({('q%s','q%s','q%s'):%s})\" % (format(po1 + 1, max_d), format(po2 + 1, max_d),\n",
    "                                                         format(po3 + 1, max_d), format(val)))\n",
    "\n",
    "# Quartic term\n",
    "for i2 in range(qubits - 1):\n",
    "    for j2 in range(i2 + 1, qubits):\n",
    "        for i1 in range(qubits - 1):\n",
    "            for j1 in range(i1 + 1, qubits):\n",
    "                po1 = i1\n",
    "                po2 = j1\n",
    "                po3 = qubits + i2\n",
    "                po4 = qubits + j2\n",
    "                val = pow(2, i1 + j1 + i2 + j2 + 2)\n",
    "                exec(\"Q.update({('q%s','q%s','q%s','q%s'):%s})\" % (format(po1 + 1, max_d), format(po2 + 1, max_d),\n",
    "                                                                   format(po3 + 1, max_d), format(po4 + 1, max_d), format(val)))\n",
    "                \n"
   ]
  },
  {
   "cell_type": "markdown",
   "metadata": {},
   "source": [
    "## HUBO to QUBO and solving"
   ]
  },
  {
   "cell_type": "code",
   "execution_count": 1,
   "metadata": {},
   "outputs": [
    {
     "ename": "NameError",
     "evalue": "name 'DWaveSampler' is not defined",
     "output_type": "error",
     "traceback": [
      "\u001b[0;31m---------------------------------------------------------------------------\u001b[0m",
      "\u001b[0;31mNameError\u001b[0m                                 Traceback (most recent call last)",
      "Cell \u001b[0;32mIn[1], line 1\u001b[0m\n\u001b[0;32m----> 1\u001b[0m sampler \u001b[38;5;241m=\u001b[39m \u001b[43mDWaveSampler\u001b[49m()\n\u001b[1;32m      2\u001b[0m sampler_auto \u001b[38;5;241m=\u001b[39m EmbeddingComposite(sampler)\n\u001b[1;32m      3\u001b[0m \u001b[38;5;28mprint\u001b[39m(\u001b[38;5;124m\"\u001b[39m\u001b[38;5;124mConnected to sampler\u001b[39m\u001b[38;5;124m\"\u001b[39m, sampler\u001b[38;5;241m.\u001b[39msolver\u001b[38;5;241m.\u001b[39mname)\n",
      "\u001b[0;31mNameError\u001b[0m: name 'DWaveSampler' is not defined"
     ]
    }
   ],
   "source": [
    "sampler = DWaveSampler()\n",
    "sampler_auto = EmbeddingComposite(sampler)\n",
    "print(\"Connected to sampler\", sampler.solver.name)\n",
    "\n",
    "# sampleset = dimod.ExactPolySolver().sample_hubo(Q)\n",
    "# hubo = dimod.higherorder.BinaryPolynomial.from_hubo(Q)\n",
    "\n",
    "# ising = dimod.higherorder.BinaryPolynomial.to_binary(hubo)\n",
    "print(Q)\n",
    "\n",
    "qubo = dimod.make_quadratic(Q, 5, dimod.BINARY)\n",
    "\n",
    "print(qubo)\n",
    "\n",
    "sampleset = dimod.ExactSolver().sample_qubo(qubo)\n",
    "\n",
    "# energy = 0\n",
    "# energies = sampleset.record.energy\n",
    "# energy0_nums = np. where(energies == - pow(c, 2))[0]\n",
    "# x = np. zeros(2)\n",
    "# for idx in range(len(energy0_nums)):\n",
    "#     sol1 = sampleset. record[energy0_nums[idx]][0]\n",
    "#     for xk in range(2):\n",
    "#         x[xk] = 0\n",
    "#     lambda1 = 0\n",
    "#     for xk in range(2):\n",
    "#         for k in range(qubits):\n",
    "#             x[xk] = x[xk] + pow(2, k) * (sol1[xk * qubits + k])\n",
    "#     print(x)\n"
   ]
  }
 ],
 "metadata": {
  "kernelspec": {
   "display_name": "TFG",
   "language": "python",
   "name": "python3"
  },
  "language_info": {
   "codemirror_mode": {
    "name": "ipython",
    "version": 3
   },
   "file_extension": ".py",
   "mimetype": "text/x-python",
   "name": "python",
   "nbconvert_exporter": "python",
   "pygments_lexer": "ipython3",
   "version": "3.12.1"
  }
 },
 "nbformat": 4,
 "nbformat_minor": 2
}
